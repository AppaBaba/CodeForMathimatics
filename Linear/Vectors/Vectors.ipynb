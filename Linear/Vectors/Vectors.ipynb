{
 "cells": [
  {
   "cell_type": "markdown",
   "id": "feda37bc",
   "metadata": {},
   "source": [
    "# Vector\n",
    "- A vector is a list of number\n",
    "- can be in a row or column\n",
    "- A vector is just a sequence of numbers"
   ]
  },
  {
   "cell_type": "markdown",
   "id": "5d89a8ad",
   "metadata": {},
   "source": [
    "using numpy Lib for array and shape."
   ]
  },
  {
   "cell_type": "code",
   "execution_count": 14,
   "id": "b345015e",
   "metadata": {},
   "outputs": [],
   "source": [
    "from numpy import array, shape, dot"
   ]
  },
  {
   "cell_type": "markdown",
   "id": "96c07b53",
   "metadata": {},
   "source": [
    "Creating a vector from a list of numbers."
   ]
  },
  {
   "cell_type": "code",
   "execution_count": 15,
   "id": "b1bc95a4",
   "metadata": {},
   "outputs": [
    {
     "name": "stdout",
     "output_type": "stream",
     "text": [
      "vector vect1 =  [11 12 12 14]\n",
      "vector vect2 =  [1 2 3 4]\n",
      "vector vect3 =  [12 14 15 18]\n"
     ]
    }
   ],
   "source": [
    "lst1 = [11,12,12,14]\n",
    "lst2 = [1,2,3,4]\n",
    "vect1 = array(lst1)\n",
    "vect2 = array(lst2)\n",
    "print(\"vector vect1 = \", vect1)\n",
    "print(\"vector vect2 = \", vect2)\n",
    "vect3 = vect1 + vect2\n",
    "print(\"vector vect3 = \", vect3)"
   ]
  },
  {
   "cell_type": "markdown",
   "id": "875a4d5f",
   "metadata": {},
   "source": [
    "Creating a row and column vectors."
   ]
  },
  {
   "cell_type": "code",
   "execution_count": 16,
   "id": "30880ede",
   "metadata": {},
   "outputs": [],
   "source": [
    "rowVector = array([[1, 2, 3]])\n",
    "colVector = array([[1],[2], [3]])"
   ]
  },
  {
   "cell_type": "markdown",
   "id": "84be4150",
   "metadata": {},
   "source": [
    "Print the vector and shape of rowVector."
   ]
  },
  {
   "cell_type": "code",
   "execution_count": 17,
   "id": "cac69e78",
   "metadata": {},
   "outputs": [
    {
     "name": "stdout",
     "output_type": "stream",
     "text": [
      "rowVector =  [[1 2 3]]\n",
      "rowVector shape is:  (1, 3)\n"
     ]
    }
   ],
   "source": [
    "print(\"rowVector = \", rowVector)\n",
    "print(\"rowVector shape is: \", rowVector.shape)"
   ]
  },
  {
   "cell_type": "markdown",
   "id": "045ea6d8",
   "metadata": {},
   "source": [
    "Print the vector and shape of a colVector."
   ]
  },
  {
   "cell_type": "code",
   "execution_count": 18,
   "id": "cd92e2eb",
   "metadata": {},
   "outputs": [
    {
     "name": "stdout",
     "output_type": "stream",
     "text": [
      "colVector = \n",
      " [[1]\n",
      " [2]\n",
      " [3]]\n",
      "colVector shape is:  (3, 1)\n"
     ]
    }
   ],
   "source": [
    "print(\"colVector = \\n\", colVector)\n",
    "print(\"colVector shape is: \", colVector.shape)"
   ]
  },
  {
   "cell_type": "markdown",
   "id": "dda28084",
   "metadata": {},
   "source": [
    "# Vector Operations"
   ]
  },
  {
   "cell_type": "markdown",
   "id": "c164db38",
   "metadata": {},
   "source": [
    "1. Addition and Subtraction of two Vectors."
   ]
  },
  {
   "cell_type": "code",
   "execution_count": 19,
   "id": "5a72dd11",
   "metadata": {},
   "outputs": [
    {
     "name": "stdout",
     "output_type": "stream",
     "text": [
      "Vector addAB =  [[5 7 9]]\n",
      "Vector subBA =  [[3 3 3]]\n"
     ]
    }
   ],
   "source": [
    "A = array([[1, 2, 3]])\n",
    "B = array([[4, 5, 6]])\n",
    "addAB = A + B\n",
    "subBA = B - A\n",
    "print(\"Vector addAB = \", addAB)\n",
    "print(\"Vector subBA = \", subBA)"
   ]
  },
  {
   "cell_type": "markdown",
   "id": "4325c0da",
   "metadata": {},
   "source": [
    "2. Scalar Multiplication of Vector"
   ]
  },
  {
   "cell_type": "code",
   "execution_count": 20,
   "id": "33b9982c",
   "metadata": {},
   "outputs": [
    {
     "name": "stdout",
     "output_type": "stream",
     "text": [
      "Vector scalarA =  [[2 4 6]]\n",
      "Vector scalarB =  [[12 15 18]]\n"
     ]
    }
   ],
   "source": [
    "scalarA = 2 * A\n",
    "scalarB = 3 * B\n",
    "print(\"Vector scalarA = \", scalarA)\n",
    "print(\"Vector scalarB = \", scalarB)"
   ]
  },
  {
   "cell_type": "markdown",
   "id": "1c77974c",
   "metadata": {},
   "source": [
    "3. Dot Product"
   ]
  },
  {
   "cell_type": "code",
   "execution_count": 21,
   "id": "8958167f",
   "metadata": {
    "scrolled": true
   },
   "outputs": [
    {
     "ename": "ValueError",
     "evalue": "shapes (1,3) and (1,3) not aligned: 3 (dim 1) != 1 (dim 0)",
     "output_type": "error",
     "traceback": [
      "\u001b[1;31m---------------------------------------------------------------------------\u001b[0m",
      "\u001b[1;31mValueError\u001b[0m                                Traceback (most recent call last)",
      "Cell \u001b[1;32mIn [21], line 1\u001b[0m\n\u001b[1;32m----> 1\u001b[0m C \u001b[38;5;241m=\u001b[39m A\u001b[38;5;241m.\u001b[39mdot(B)\n\u001b[0;32m      2\u001b[0m \u001b[38;5;28mprint\u001b[39m(C)\n",
      "\u001b[1;31mValueError\u001b[0m: shapes (1,3) and (1,3) not aligned: 3 (dim 1) != 1 (dim 0)"
     ]
    }
   ],
   "source": [
    "C = A.dot(B)\n",
    "print(C)"
   ]
  },
  {
   "cell_type": "code",
   "execution_count": null,
   "id": "eded872e",
   "metadata": {},
   "outputs": [],
   "source": []
  },
  {
   "cell_type": "code",
   "execution_count": null,
   "id": "8e939ba5",
   "metadata": {},
   "outputs": [],
   "source": []
  }
 ],
 "metadata": {
  "kernelspec": {
   "display_name": "Python 3 (ipykernel)",
   "language": "python",
   "name": "python3"
  },
  "language_info": {
   "codemirror_mode": {
    "name": "ipython",
    "version": 3
   },
   "file_extension": ".py",
   "mimetype": "text/x-python",
   "name": "python",
   "nbconvert_exporter": "python",
   "pygments_lexer": "ipython3",
   "version": "3.10.7"
  }
 },
 "nbformat": 4,
 "nbformat_minor": 5
}
